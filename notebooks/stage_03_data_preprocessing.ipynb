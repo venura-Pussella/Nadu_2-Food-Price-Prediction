{
 "cells": [
  {
   "cell_type": "markdown",
   "metadata": {},
   "source": [
    "## Data Preprocessing "
   ]
  },
  {
   "cell_type": "code",
   "execution_count": 6,
   "metadata": {},
   "outputs": [],
   "source": [
    "import os"
   ]
  },
  {
   "cell_type": "code",
   "execution_count": 7,
   "metadata": {},
   "outputs": [
    {
     "data": {
      "text/plain": [
       "'c:\\\\Users\\\\VenuraP\\\\Desktop\\\\Browns Data Projects\\\\ML Projects\\\\POC\\\\Harti-Food-Price-Prediction\\\\notebooks'"
      ]
     },
     "execution_count": 7,
     "metadata": {},
     "output_type": "execute_result"
    }
   ],
   "source": [
    "%pwd"
   ]
  },
  {
   "cell_type": "code",
   "execution_count": 8,
   "metadata": {},
   "outputs": [
    {
     "data": {
      "text/plain": [
       "'c:\\\\Users\\\\VenuraP\\\\Desktop\\\\Browns Data Projects\\\\ML Projects\\\\POC\\\\Harti-Food-Price-Prediction'"
      ]
     },
     "execution_count": 8,
     "metadata": {},
     "output_type": "execute_result"
    }
   ],
   "source": [
    "os.chdir(\"../\")\n",
    "%pwd"
   ]
  },
  {
   "cell_type": "markdown",
   "metadata": {},
   "source": [
    "## Data Preprocessing Entity\n"
   ]
  },
  {
   "cell_type": "code",
   "execution_count": 9,
   "metadata": {},
   "outputs": [],
   "source": [
    "from dataclasses import dataclass\n",
    "from pathlib import Path\n",
    "\n",
    "@dataclass(frozen=True)\n",
    "class DataPreprocessingConfig:\n",
    "    root_dir: Path\n",
    "    unzip_data_dir: Path\n",
    "    local_data_file: Path"
   ]
  },
  {
   "cell_type": "markdown",
   "metadata": {},
   "source": [
    "## Data Preprocessing Configuration"
   ]
  },
  {
   "cell_type": "code",
   "execution_count": 10,
   "metadata": {},
   "outputs": [],
   "source": [
    "from src.constants import *\n",
    "from src.utils.common import read_yaml, create_directories"
   ]
  },
  {
   "cell_type": "code",
   "execution_count": 11,
   "metadata": {},
   "outputs": [],
   "source": [
    "from pathlib import Path\n",
    "\n",
    "# Function to initialize configuration by reading YAML and creating directories\n",
    "def load_configuration(config_filepath: Path = CONFIG_FILE_PATH):\n",
    "    config = read_yaml(config_filepath)\n",
    "    return config\n",
    "\n",
    "# Function to get data validation configuration from the loaded config\n",
    "def get_data_preprocessing_config(config) -> DataPreprocessingConfig:\n",
    "\n",
    "    # Extract data validation settings from the config\n",
    "    data_preprocessing = config.data_preprocessing\n",
    "\n",
    "    # Create and return a DataValidationConfig instance, including the schema\n",
    "    return DataPreprocessingConfig(\n",
    "        root_dir=data_preprocessing.root_dir,\n",
    "        unzip_data_dir=data_preprocessing.unzip_data_dir,\n",
    "        local_data_file=data_preprocessing.local_data_file,\n",
    "    )"
   ]
  },
  {
   "cell_type": "markdown",
   "metadata": {},
   "source": [
    "## Data Preprocessing Components"
   ]
  },
  {
   "cell_type": "code",
   "execution_count": 12,
   "metadata": {},
   "outputs": [],
   "source": [
    "import pandas as pd\n",
    "from box import ConfigBox \n",
    "\n",
    "def data_read_clean_missing_values(config):\n",
    "\n",
    "    # Read the Excel file into a DataFrame\n",
    "    df = pd.read_excel(config.unzip_data_dir)\n",
    "    \n",
    "    # Replace missing values in 'items' with 'Rice (Rs/kg)_Nadu 2'\n",
    "    df['items'] = df['items'].fillna('Rice (Rs/kg)_Nadu 2')\n",
    "    \n",
    "    # Interpolate missing values in 'pettah_average' using linear interpolation\n",
    "    df['pettah_average'] = df['pettah_average'].interpolate(method='linear', limit_direction='both')\n",
    "    \n",
    "    return df\n",
    "\n",
    "# Function to drop specified columns\n",
    "def drop_unnecessary_columns(df):\n",
    "\n",
    "    columns_to_drop = [\n",
    "        'items', 'pettah_min_value', 'pettah_max_value', \n",
    "        'food_inflation_Base_2013', 'percipitation', \n",
    "        'Bankrupt', 'pettah_range', 'pettah_midpoint'\n",
    "    ]\n",
    "    \n",
    "    # Drop the specified columns\n",
    "    df.drop(columns=columns_to_drop, inplace=True)\n",
    "    \n",
    "    return df\n",
    "\n",
    "\n",
    "def save_preprocessed_excel(config: ConfigBox, df: pd.DataFrame):\n",
    "    # Save the DataFrame to the specified file path as an Excel file\n",
    "    df.to_excel(config.local_data_file, index=False)\n",
    "    print(f\"File saved at: {config.local_data_file}\")\n"
   ]
  },
  {
   "cell_type": "markdown",
   "metadata": {},
   "source": [
    "## Data Preprocessing Pipeline"
   ]
  },
  {
   "cell_type": "code",
   "execution_count": 17,
   "metadata": {},
   "outputs": [
    {
     "name": "stdout",
     "output_type": "stream",
     "text": [
      "[2024-09-25 13:50:42,094: INFO: common: yaml file: config\\config.yaml loaded successfully]\n",
      "[2024-09-25 13:50:42,096: INFO: common: created directory at: artifacts/data_preprocessing]\n",
      "File saved at: artifacts/data_preprocessing/Lstm_data_preprocessed.xlsx\n"
     ]
    }
   ],
   "source": [
    "from src import logger\n",
    "\n",
    "def data_preprocessing_training_pipeline():\n",
    "    \n",
    "    try:\n",
    "        # Load config and schema\n",
    "        config = load_configuration()\n",
    "\n",
    "        # Retrieve the data ingestion configuration from the loaded config\n",
    "        data_preprocessing_config = get_data_preprocessing_config(config)\n",
    "\n",
    "        # Create directories related to data ingestion (root directory)\n",
    "        create_directories([data_preprocessing_config.root_dir])\n",
    "\n",
    "        cleaned_data = data_read_clean_missing_values(data_preprocessing_config)\n",
    "\n",
    "        dropped_columns_data=drop_unnecessary_columns(cleaned_data)\n",
    "\n",
    "        save_preprocessed_excel(data_preprocessing_config, dropped_columns_data)\n",
    "\n",
    "    except Exception as e:\n",
    "        logger.error(f\"An error occurred during data preprocessing: {e}\")\n",
    "\n",
    "if __name__ == \"__main__\":\n",
    "\n",
    " data_preprocessing_training_pipeline()"
   ]
  }
 ],
 "metadata": {
  "kernelspec": {
   "display_name": "hartipredict",
   "language": "python",
   "name": "python3"
  },
  "language_info": {
   "codemirror_mode": {
    "name": "ipython",
    "version": 3
   },
   "file_extension": ".py",
   "mimetype": "text/x-python",
   "name": "python",
   "nbconvert_exporter": "python",
   "pygments_lexer": "ipython3",
   "version": "3.9.19"
  }
 },
 "nbformat": 4,
 "nbformat_minor": 2
}
