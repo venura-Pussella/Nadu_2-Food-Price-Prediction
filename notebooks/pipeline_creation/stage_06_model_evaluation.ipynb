{
 "cells": [
  {
   "cell_type": "markdown",
   "metadata": {},
   "source": [
    "## Model Evaluation "
   ]
  },
  {
   "cell_type": "code",
   "execution_count": 1,
   "metadata": {},
   "outputs": [],
   "source": [
    "import os"
   ]
  },
  {
   "cell_type": "code",
   "execution_count": 2,
   "metadata": {},
   "outputs": [],
   "source": [
    "os.chdir(\"../\")"
   ]
  },
  {
   "cell_type": "code",
   "execution_count": 3,
   "metadata": {},
   "outputs": [
    {
     "data": {
      "text/plain": [
       "'c:\\\\Users\\\\VenuraP\\\\Desktop\\\\Browns Data Projects\\\\ML Projects\\\\POC\\\\Harti-Food-Price-Prediction'"
      ]
     },
     "execution_count": 3,
     "metadata": {},
     "output_type": "execute_result"
    }
   ],
   "source": [
    "%pwd"
   ]
  },
  {
   "cell_type": "markdown",
   "metadata": {},
   "source": [
    "## Entity"
   ]
  },
  {
   "cell_type": "code",
   "execution_count": 4,
   "metadata": {},
   "outputs": [],
   "source": [
    "from dataclasses import dataclass\n",
    "from pathlib import Path\n",
    "\n",
    "@dataclass(frozen=True)\n",
    "class ModelEvaluationConfig:\n",
    "    root_dir: Path\n",
    "    model_path: Path\n",
    "    metric_file_name: Path\n"
   ]
  },
  {
   "cell_type": "code",
   "execution_count": 5,
   "metadata": {},
   "outputs": [],
   "source": [
    "from src.constants import *\n",
    "from src.utils.common import read_yaml"
   ]
  },
  {
   "cell_type": "markdown",
   "metadata": {},
   "source": [
    "## Configuration  Manager"
   ]
  },
  {
   "cell_type": "code",
   "execution_count": 6,
   "metadata": {},
   "outputs": [],
   "source": [
    "# Function to initialize configuration by reading YAML and creating directories\n",
    "def load_configuration(config_filepath: Path = CONFIG_FILE_PATH, schema_filepath: Path = SCHEMA_FILE_PATH):\n",
    "\n",
    "    config = read_yaml(config_filepath)\n",
    "    schema = read_yaml(schema_filepath)\n",
    "\n",
    "    return config, schema\n",
    "\n",
    "# Function to get data ingestion configuration from the loaded config\n",
    "def get_model_evaluation_config(config) -> ModelEvaluationConfig:\n",
    "\n",
    "    # Extract data ingestion settings from the config\n",
    "    model_evaluation = config.model_evaluation\n",
    "\n",
    "    # Create and return a DataIngestionConfig instance\n",
    "    return ModelEvaluationConfig(\n",
    "        root_dir=model_evaluation.root_dir,\n",
    "        model_path=model_evaluation.model_path,\n",
    "        metric_file_name=model_evaluation.metric_file_name\n",
    "    )"
   ]
  },
  {
   "cell_type": "markdown",
   "metadata": {},
   "source": [
    "## Model Evaluation Component"
   ]
  },
  {
   "cell_type": "code",
   "execution_count": 7,
   "metadata": {},
   "outputs": [],
   "source": [
    "import pandas as pd\n",
    "import numpy as np\n",
    "import tensorflow as tf\n",
    "from datetime import datetime\n",
    "from sklearn.metrics import mean_absolute_error, mean_squared_error, r2_score\n",
    "\n",
    "def model_evaluation(train_x, test_x, train_y, test_y,config):\n",
    "\n",
    "    # Load the model\n",
    "    best_model = tf.keras.models.load_model(config.model_path)\n",
    "\n",
    "    # Predict on train data\n",
    "    predicted_train_set_y = best_model.predict(train_x)\n",
    "\n",
    "    # Predict on test data\n",
    "    predicted_test_set_y = best_model.predict(test_x)\n",
    "\n",
    "    # Calculate evaluation metrics for the training data\n",
    "    train_r2 = r2_score(train_y, predicted_train_set_y)\n",
    "    train_mae = mean_absolute_error(train_y, predicted_train_set_y)\n",
    "    train_mse = mean_squared_error(train_y, predicted_train_set_y)\n",
    "    train_rmse = np.sqrt(train_mse)\n",
    "\n",
    "    # Calculate evaluation metrics for the test data\n",
    "    test_r2 = r2_score(test_y, predicted_test_set_y)\n",
    "    test_mae = mean_absolute_error(test_y, predicted_test_set_y)\n",
    "    test_mse = mean_squared_error(test_y, predicted_test_set_y)\n",
    "    test_rmse = np.sqrt(test_mse)\n",
    "\n",
    "    # Get current date and time\n",
    "    current_time = datetime.now().strftime(\"%Y-%m-%d %H:%M:%S\")\n",
    "\n",
    "    # Prepare data for saving\n",
    "    metrics_data = {\n",
    "        \"Date\": [current_time],  \n",
    "        \"Train R2\": [train_r2],\n",
    "        \"Train MAE\": [train_mae],\n",
    "        \"Train MSE\": [train_mse],\n",
    "        \"Train RMSE\": [train_rmse],\n",
    "        \"Test R2\": [test_r2],\n",
    "        \"Test MAE\": [test_mae],\n",
    "        \"Test MSE\": [test_mse],\n",
    "        \"Test RMSE\": [test_rmse]\n",
    "    }\n",
    "\n",
    "    # Convert to DataFrame\n",
    "    metrics_df = pd.DataFrame(metrics_data)\n",
    "\n",
    "    # Save metrics to Excel (appending to the file if it exists)\n",
    "    excel_file = config.metric_file_name\n",
    "    try:\n",
    "        # If the Excel file already exists, append the new data\n",
    "        with pd.ExcelWriter(excel_file, engine='openpyxl', mode='a', if_sheet_exists='overlay') as writer:\n",
    "            metrics_df.to_excel(writer, sheet_name='Metrics', index=False, header=False, startrow=writer.sheets['Metrics'].max_row)\n",
    "    except FileNotFoundError:\n",
    "        # If the file doesn't exist, create a new file and write data\n",
    "        with pd.ExcelWriter(excel_file, engine='openpyxl') as writer:\n",
    "            metrics_df.to_excel(writer, sheet_name='Metrics', index=False)"
   ]
  },
  {
   "cell_type": "markdown",
   "metadata": {},
   "source": [
    "## Model Evaluation Pipeline"
   ]
  },
  {
   "cell_type": "code",
   "execution_count": 8,
   "metadata": {},
   "outputs": [
    {
     "name": "stdout",
     "output_type": "stream",
     "text": [
      "[2024-10-05 01:55:37,092: INFO: common: yaml file: config\\config.yaml loaded successfully]\n",
      "[2024-10-05 01:55:37,092: INFO: common: yaml file: schema.yaml loaded successfully]\n",
      "[2024-10-05 01:55:37,098: INFO: common: created directory at: artifacts/model_evaluation]\n",
      "\u001b[1m45/45\u001b[0m \u001b[32m━━━━━━━━━━━━━━━━━━━━\u001b[0m\u001b[37m\u001b[0m \u001b[1m3s\u001b[0m 42ms/step\n",
      "\u001b[1m12/12\u001b[0m \u001b[32m━━━━━━━━━━━━━━━━━━━━\u001b[0m\u001b[37m\u001b[0m \u001b[1m0s\u001b[0m 29ms/step\n"
     ]
    }
   ],
   "source": [
    "from src import logger\n",
    "from src.configuration.configuration import get_model_trainer_config\n",
    "from src.components.model_trainer import sequence_creation_train_test_split\n",
    "from src.utils.common import create_directories\n",
    "from src.configuration.configuration import load_configuration\n",
    "\n",
    "def model_trainer_training_pipeline():\n",
    "    \n",
    "    try:\n",
    "        # Load config and schema\n",
    "        config, schema = load_configuration()\n",
    "\n",
    "        model_trainer_config = get_model_trainer_config(config,schema) \n",
    "\n",
    "        # Retrieve the model trainer configuration from the loaded config\n",
    "        model_evaluation_config = get_model_evaluation_config(config)\n",
    "\n",
    "        # Create directories related to model evaluation (root directory)\n",
    "        create_directories([model_evaluation_config.root_dir])\n",
    "\n",
    "        train_x, test_x, train_y, test_y = sequence_creation_train_test_split(model_trainer_config)\n",
    "\n",
    "        # model evaluation\n",
    "        model_evaluation(train_x, test_x, train_y, test_y,model_evaluation_config)\n",
    "\n",
    "    except Exception as e:\n",
    "        logger.error(f\"An error occurred during model evaluation: {e}\")\n",
    "\n",
    "if __name__ == \"__main__\":\n",
    "\n",
    " model_trainer_training_pipeline()"
   ]
  }
 ],
 "metadata": {
  "kernelspec": {
   "display_name": "hartipredict",
   "language": "python",
   "name": "python3"
  },
  "language_info": {
   "codemirror_mode": {
    "name": "ipython",
    "version": 3
   },
   "file_extension": ".py",
   "mimetype": "text/x-python",
   "name": "python",
   "nbconvert_exporter": "python",
   "pygments_lexer": "ipython3",
   "version": "3.9.19"
  }
 },
 "nbformat": 4,
 "nbformat_minor": 2
}
