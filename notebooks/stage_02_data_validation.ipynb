{
 "cells": [
  {
   "cell_type": "markdown",
   "metadata": {},
   "source": [
    "## Data Validation "
   ]
  },
  {
   "cell_type": "code",
   "execution_count": 1,
   "metadata": {},
   "outputs": [],
   "source": [
    "import os"
   ]
  },
  {
   "cell_type": "code",
   "execution_count": 2,
   "metadata": {},
   "outputs": [
    {
     "data": {
      "text/plain": [
       "'c:\\\\Users\\\\VenuraP\\\\Desktop\\\\Browns Data Projects\\\\ML Projects\\\\POC\\\\Harti-Food-Price-Prediction\\\\notebooks'"
      ]
     },
     "execution_count": 2,
     "metadata": {},
     "output_type": "execute_result"
    }
   ],
   "source": [
    "%pwd"
   ]
  },
  {
   "cell_type": "code",
   "execution_count": 3,
   "metadata": {},
   "outputs": [
    {
     "data": {
      "text/plain": [
       "'c:\\\\Users\\\\VenuraP\\\\Desktop\\\\Browns Data Projects\\\\ML Projects\\\\POC\\\\Harti-Food-Price-Prediction'"
      ]
     },
     "execution_count": 3,
     "metadata": {},
     "output_type": "execute_result"
    }
   ],
   "source": [
    "os.chdir(\"../\")\n",
    "%pwd"
   ]
  },
  {
   "cell_type": "markdown",
   "metadata": {},
   "source": [
    "## Data Validation"
   ]
  },
  {
   "cell_type": "code",
   "execution_count": 4,
   "metadata": {},
   "outputs": [],
   "source": [
    "from dataclasses import dataclass\n",
    "from pathlib import Path\n",
    "\n",
    "@dataclass(frozen=True)\n",
    "class DataValidationConfig:\n",
    "    root_dir: Path\n",
    "    STATUS_FILE: str\n",
    "    unzip_data_dir: Path\n",
    "    all_schema: dict"
   ]
  },
  {
   "cell_type": "markdown",
   "metadata": {},
   "source": [
    "## Data Validation Configuration"
   ]
  },
  {
   "cell_type": "code",
   "execution_count": 5,
   "metadata": {},
   "outputs": [],
   "source": [
    "from src.constants import *\n",
    "from src.utils.common import read_yaml, create_directories"
   ]
  },
  {
   "cell_type": "code",
   "execution_count": 6,
   "metadata": {},
   "outputs": [],
   "source": [
    "from pathlib import Path\n",
    "\n",
    "# Function to initialize configuration by reading YAML and creating directories\n",
    "def load_configuration(config_filepath: Path = CONFIG_FILE_PATH, schema_filepath: Path = SCHEMA_FILE_PATH):\n",
    "\n",
    "    config = read_yaml(config_filepath)\n",
    "    schema = read_yaml(schema_filepath)\n",
    "\n",
    "    return config, schema\n",
    "\n",
    "\n",
    "# Function to get data validation configuration from the loaded config\n",
    "def get_data_validation_config(config, schema) -> DataValidationConfig:\n",
    "\n",
    "    # Extract data validation settings from the config\n",
    "    data_validation = config.data_validation\n",
    "\n",
    "    # Create and return a DataValidationConfig instance, including the schema\n",
    "    return DataValidationConfig(\n",
    "        root_dir=data_validation.root_dir,\n",
    "        unzip_data_dir=data_validation.unzip_data_dir,\n",
    "        STATUS_FILE=data_validation.STATUS_FILE,\n",
    "        all_schema=schema.COLUMNS,\n",
    "    )\n",
    "\n",
    "\n",
    "# # load config and schema\n",
    "# config, schema = load_configuration()\n",
    "# # Step 4: Retrieve the data ingestion configuration from the loaded config\n",
    "# data_validation_config = get_data_validation_config(config, schema)\n",
    "# # Step 5: Create the directories related to data ingestion (root directory)\n",
    "# create_directories([data_validation_config.root_dir])"
   ]
  },
  {
   "cell_type": "markdown",
   "metadata": {},
   "source": [
    "## Data Validation Components "
   ]
  },
  {
   "cell_type": "code",
   "execution_count": 7,
   "metadata": {},
   "outputs": [
    {
     "name": "stdout",
     "output_type": "stream",
     "text": [
      "[2024-09-25 09:22:52,250: INFO: common: yaml file: config\\config.yaml loaded successfully]\n",
      "[2024-09-25 09:22:52,250: INFO: common: yaml file: schema.yaml loaded successfully]\n",
      "[2024-09-25 09:22:52,255: INFO: common: created directory at: artifacts/data_validation]\n"
     ]
    }
   ],
   "source": [
    "import pandas as pd\n",
    "\n",
    "def validate_all_columns(config):\n",
    "    \"\"\"\n",
    "    Validate if all columns in the data match the schema.\n",
    "\n",
    "    Args:\n",
    "        config: DataValidationConfig instance with configurations for validation.\n",
    "    \n",
    "    Returns:\n",
    "        bool: True if all columns match the schema, False otherwise.\n",
    "    \"\"\"\n",
    "    try:\n",
    "        validation_status = True  # Assume valid unless proven otherwise\n",
    "\n",
    "        # Load data from the specified Excel file (explicitly specify the engine)\n",
    "        data = pd.read_excel(config.unzip_data_dir, engine='openpyxl')\n",
    "        all_cols = list(data.columns)\n",
    "\n",
    "        # Load schema keys\n",
    "        all_schema = config.all_schema.keys()\n",
    "\n",
    "        # Iterate through all columns and validate\n",
    "        for col in all_cols:\n",
    "            if col not in all_schema:\n",
    "                validation_status = False\n",
    "                with open(config.STATUS_FILE, 'w') as f:\n",
    "                    f.write(f\"Validation status: {validation_status}\\n\")\n",
    "                break  # Exit the loop if any column is invalid\n",
    "        else:\n",
    "            with open(config.STATUS_FILE, 'w') as f:\n",
    "                f.write(f\"Validation status: {validation_status}\\n\")\n",
    "\n",
    "        return validation_status\n",
    "\n",
    "    except Exception as e:\n",
    "        raise e"
   ]
  },
  {
   "cell_type": "markdown",
   "metadata": {},
   "source": [
    "## Pipeline (Data_Validation)"
   ]
  },
  {
   "cell_type": "code",
   "execution_count": null,
   "metadata": {},
   "outputs": [],
   "source": [
    "from src import logger\n",
    "\n",
    "def data_validation_training_pipeline():\n",
    "    \"\"\"Runs the data validation pipeline.\"\"\"\n",
    "    try:\n",
    "        # Load config and schema\n",
    "        config , _ = load_configuration()\n",
    "\n",
    "        # Retrieve the data ingestion configuration from the loaded config\n",
    "        data_validation_config = get_data_validation_config(config)\n",
    "\n",
    "        # Create directories related to data ingestion (root directory)\n",
    "        create_directories([data_validation_config.root_dir])\n",
    "\n",
    "        # Download the data file as part of the data ingestion process\n",
    "        validate_all_columns(data_validation_config)\n",
    "\n",
    "    except Exception as e:\n",
    "        logger.error(f\"An error occurred during data validation: {e}\")\n",
    "\n",
    "if __name__ == \"__main__\":\n",
    "\n",
    "    data_validation_training_pipeline()"
   ]
  }
 ],
 "metadata": {
  "kernelspec": {
   "display_name": "hartipredict",
   "language": "python",
   "name": "python3"
  },
  "language_info": {
   "codemirror_mode": {
    "name": "ipython",
    "version": 3
   },
   "file_extension": ".py",
   "mimetype": "text/x-python",
   "name": "python",
   "nbconvert_exporter": "python",
   "pygments_lexer": "ipython3",
   "version": "3.9.19"
  }
 },
 "nbformat": 4,
 "nbformat_minor": 2
}
