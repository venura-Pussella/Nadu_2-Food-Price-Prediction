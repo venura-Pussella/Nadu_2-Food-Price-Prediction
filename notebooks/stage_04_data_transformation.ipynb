{
 "cells": [
  {
   "cell_type": "markdown",
   "metadata": {},
   "source": [
    "## Data Transformation"
   ]
  },
  {
   "cell_type": "code",
   "execution_count": 1,
   "metadata": {},
   "outputs": [],
   "source": [
    "import os"
   ]
  },
  {
   "cell_type": "code",
   "execution_count": 2,
   "metadata": {},
   "outputs": [
    {
     "data": {
      "text/plain": [
       "'c:\\\\Users\\\\VenuraP\\\\Desktop\\\\Browns Data Projects\\\\ML Projects\\\\POC\\\\Harti-Food-Price-Prediction\\\\notebooks'"
      ]
     },
     "execution_count": 2,
     "metadata": {},
     "output_type": "execute_result"
    }
   ],
   "source": [
    "%pwd"
   ]
  },
  {
   "cell_type": "code",
   "execution_count": 3,
   "metadata": {},
   "outputs": [],
   "source": [
    "os.chdir(\"../\")"
   ]
  },
  {
   "cell_type": "code",
   "execution_count": 4,
   "metadata": {},
   "outputs": [
    {
     "data": {
      "text/plain": [
       "'c:\\\\Users\\\\VenuraP\\\\Desktop\\\\Browns Data Projects\\\\ML Projects\\\\POC\\\\Harti-Food-Price-Prediction'"
      ]
     },
     "execution_count": 4,
     "metadata": {},
     "output_type": "execute_result"
    }
   ],
   "source": [
    "%pwd"
   ]
  },
  {
   "cell_type": "markdown",
   "metadata": {},
   "source": [
    "# Entity"
   ]
  },
  {
   "cell_type": "code",
   "execution_count": 5,
   "metadata": {},
   "outputs": [],
   "source": [
    "from dataclasses import dataclass\n",
    "from pathlib import Path\n",
    "\n",
    "@dataclass(frozen=True)\n",
    "class DataTransformationConfig:\n",
    "    root_dir: Path\n",
    "    data_path: Path\n",
    "    local_data_file: Path"
   ]
  },
  {
   "cell_type": "code",
   "execution_count": 6,
   "metadata": {},
   "outputs": [],
   "source": [
    "from src.constants import *\n",
    "from src.utils.common import read_yaml, create_directories"
   ]
  },
  {
   "cell_type": "markdown",
   "metadata": {},
   "source": [
    "## Configuration Manager"
   ]
  },
  {
   "cell_type": "code",
   "execution_count": 7,
   "metadata": {},
   "outputs": [],
   "source": [
    "# Function to initialize configuration by reading YAML and creating directories\n",
    "def load_configuration(config_filepath: Path = CONFIG_FILE_PATH, schema_filepath: Path = SCHEMA_FILE_PATH):\n",
    "\n",
    "    config = read_yaml(config_filepath)\n",
    "    schema = read_yaml(schema_filepath)\n",
    "\n",
    "    return config, schema\n",
    "\n",
    "# Function to get data ingestion configuration from the loaded config\n",
    "def get_data_transformation_config(config) -> DataTransformationConfig:\n",
    "\n",
    "    # Extract data ingestion settings from the config\n",
    "    data_transformation = config.data_transformation\n",
    "\n",
    "    # Create and return a DataIngestionConfig instance\n",
    "    return DataTransformationConfig(\n",
    "        root_dir=data_transformation.root_dir,\n",
    "        data_path=data_transformation.data_path,\n",
    "        local_data_file=data_transformation.local_data_file\n",
    "    )"
   ]
  },
  {
   "cell_type": "markdown",
   "metadata": {},
   "source": [
    "## Data Transformation Component"
   ]
  },
  {
   "cell_type": "code",
   "execution_count": 8,
   "metadata": {},
   "outputs": [],
   "source": [
    "import pandas as pd\n",
    "from scipy.stats import boxcox\n",
    "from sklearn.preprocessing import MinMaxScaler\n",
    "from box import ConfigBox\n",
    "\n",
    "def box_cox_transformation(config):\n",
    "\n",
    "    # Read the Excel file into a DataFrame\n",
    "    df = pd.read_excel(config.data_path)\n",
    "\n",
    "    # Apply Box-Cox Transformation to 'pettah_average'\n",
    "    df['pettah_average'], lambda_value = boxcox(df['pettah_average'].replace(0, 0.01))\n",
    "    \n",
    "    return df\n",
    "\n",
    "def min_max_scale(df):\n",
    "\n",
    "    # Set 'date' as index\n",
    "    df.set_index('date', inplace=True)\n",
    "\n",
    "    # Initialize MinMaxScaler\n",
    "    scaler = MinMaxScaler()\n",
    "\n",
    "    # Fit and transform the data\n",
    "    scaled_data = scaler.fit_transform(df)\n",
    "\n",
    "    # Create a DataFrame from the scaled data with the same column names\n",
    "    scaled_df = pd.DataFrame(scaled_data, columns=df.columns, index=df.index)\n",
    "\n",
    "    return scaled_df\n",
    "\n",
    "def remove_zeros_in_df(df):\n",
    "\n",
    "    # Identify rows that have any '0' values\n",
    "    rows_with_zeros = (df == 0).any(axis=1)\n",
    "\n",
    "    # Filter out those rows (keep only rows without '0' values)\n",
    "    cleaned_df = df[~rows_with_zeros]\n",
    "\n",
    "    return cleaned_df\n",
    "\n",
    "def save_preprocessed_excel(config: ConfigBox, df: pd.DataFrame):\n",
    "    # Save the DataFrame to the specified file path as an Excel file\n",
    "    df.to_excel(config.local_data_file, index=False)\n",
    "    print(f\"File saved at: {config.local_data_file}\")\n"
   ]
  },
  {
   "cell_type": "markdown",
   "metadata": {},
   "source": [
    "## Data Transformation Pipeline"
   ]
  },
  {
   "cell_type": "code",
   "execution_count": 9,
   "metadata": {},
   "outputs": [
    {
     "name": "stdout",
     "output_type": "stream",
     "text": [
      "[2024-10-02 09:57:59,912: INFO: common: yaml file: config\\config.yaml loaded successfully]\n"
     ]
    },
    {
     "name": "stdout",
     "output_type": "stream",
     "text": [
      "[2024-10-02 09:57:59,918: INFO: common: yaml file: schema.yaml loaded successfully]\n",
      "[2024-10-02 09:57:59,922: INFO: common: created directory at: artifacts/data_transformation]\n",
      "File saved at: artifacts/data_transformation/lstm_transformed.xlsx\n"
     ]
    }
   ],
   "source": [
    "from src import logger\n",
    "\n",
    "def data_transformation_training_pipeline():\n",
    "    \n",
    "    try:\n",
    "        # Load config and schema\n",
    "        config, _ = load_configuration()\n",
    "\n",
    "        # Retrieve the data ingestion configuration from the loaded config\n",
    "        data_transformation_config = get_data_transformation_config(config)\n",
    "\n",
    "        # Create directories related to data ingestion (root directory)\n",
    "        create_directories([data_transformation_config.root_dir])\n",
    "\n",
    "        # # Box_cox transform\n",
    "        box_cox = box_cox_transformation(data_transformation_config)\n",
    "        \n",
    "        # min max scale \n",
    "        min_max = min_max_scale(box_cox)\n",
    "\n",
    "        # remove zeros\n",
    "        remove_zeros=remove_zeros_in_df(min_max)\n",
    "\n",
    "        # saving the file \n",
    "        save_preprocessed_excel(data_transformation_config, remove_zeros)\n",
    "\n",
    "    except Exception as e:\n",
    "        logger.error(f\"An error occurred during data preprocessing: {e}\")\n",
    "\n",
    "if __name__ == \"__main__\":\n",
    "\n",
    " data_transformation_training_pipeline()"
   ]
  }
 ],
 "metadata": {
  "kernelspec": {
   "display_name": "hartipredict",
   "language": "python",
   "name": "python3"
  },
  "language_info": {
   "codemirror_mode": {
    "name": "ipython",
    "version": 3
   },
   "file_extension": ".py",
   "mimetype": "text/x-python",
   "name": "python",
   "nbconvert_exporter": "python",
   "pygments_lexer": "ipython3",
   "version": "3.9.19"
  }
 },
 "nbformat": 4,
 "nbformat_minor": 2
}
