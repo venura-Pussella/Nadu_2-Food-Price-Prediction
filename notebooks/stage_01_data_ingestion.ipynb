{
 "cells": [
  {
   "cell_type": "code",
   "execution_count": 1,
   "metadata": {},
   "outputs": [
    {
     "data": {
      "text/plain": [
       "'c:\\\\Users\\\\VenuraP\\\\Desktop\\\\Browns Data Projects\\\\ML Projects\\\\POC\\\\Harti-Food-Price-Prediction\\\\notebooks'"
      ]
     },
     "execution_count": 1,
     "metadata": {},
     "output_type": "execute_result"
    }
   ],
   "source": [
    "import os\n",
    "%pwd"
   ]
  },
  {
   "cell_type": "code",
   "execution_count": 2,
   "metadata": {},
   "outputs": [],
   "source": [
    "os.chdir(\"../\")"
   ]
  },
  {
   "cell_type": "markdown",
   "metadata": {},
   "source": [
    "## Update the Entity"
   ]
  },
  {
   "cell_type": "code",
   "execution_count": 3,
   "metadata": {},
   "outputs": [],
   "source": [
    "from dataclasses import dataclass\n",
    "from pathlib import Path\n",
    "\n",
    "@dataclass(frozen=True)\n",
    "class DataIngestionConfig:\n",
    "    root_dir: Path\n",
    "    source_URL: str\n",
    "    local_data_file: Path\n",
    "    unzip_dir: Path"
   ]
  },
  {
   "cell_type": "code",
   "execution_count": 4,
   "metadata": {},
   "outputs": [],
   "source": [
    "from src.constants import * #import constants (paths to yaml files) inside here\n",
    "from src.utils.common import read_yaml, create_directories "
   ]
  },
  {
   "cell_type": "markdown",
   "metadata": {},
   "source": [
    "## Configuration Manager(configuration.py)"
   ]
  },
  {
   "cell_type": "code",
   "execution_count": 5,
   "metadata": {},
   "outputs": [
    {
     "name": "stdout",
     "output_type": "stream",
     "text": [
      "[2024-09-24 15:26:20,918: INFO: common: yaml file: config\\config.yaml loaded successfully]\n",
      "[2024-09-24 15:26:20,923: INFO: common: yaml file: schema.yaml loaded successfully]\n",
      "{'artifacts_root': 'artifacts', 'data_ingestion': {'root_dir': 'artifacts/data_ingestion', 'source_URL': 'https://github.com/venura-Pussella/Nadu_2_Price_Prediction/blob/main/Lstm_Dates.xlsx', 'local_data_file': 'artifacts/data_ingestion/Lstm_Dates.xlsx', 'unzip_dir': 'artifacts/data_ingestion'}, 'data_validation': {'root_dir': 'artifacts/data_validation', 'unzip_data_dir': 'artifacts/data_ingestion/Lstm_Dates.xlsx', 'STATUS_FILE': 'artifacts/data_validation/status.txt'}, 'data_preprocessing': {'root_dir': 'artifacts/data_preprocessing', 'unzip_data_dir': 'artifacts/data_ingestion/Lstm_Dates.xlsx', 'STATUS_FILE': 'artifacts/data_preprocessing/status.txt'}, 'data_transformation': {'root_dir': 'artifacts/data_transformation', 'data_path': 'artifacts/data_preprocessing/Lstm_Dates.xlsx'}, 'model_trainer': {'root_dir': 'artifacts/model_trainer', 'train_data_path': 'artifacts/data_transformation/train.csv', 'test_data_path': 'artifacts/data_transformation/test.csv', 'model_name': 'best_model.keras'}, 'model_evaluation': {'root_dir': 'artifacts/model_evaluation', 'test_data_path': 'artifacts/data_transformation/test.csv', 'model_path': 'artifacts/model_trainer/best_model.keras', 'metric_file_name': 'artifacts/model_evaluation/metrics.json'}}\n",
      "[2024-09-24 15:26:20,924: INFO: common: created directory at: artifacts]\n",
      "[2024-09-24 15:26:20,925: INFO: common: created directory at: artifacts/data_ingestion]\n"
     ]
    }
   ],
   "source": [
    "# Function to initialize configuration by reading YAML and creating directories\n",
    "def initialize_configuration(config_filepath: Path = CONFIG_FILE_PATH, schema_filepath: Path = SCHEMA_FILE_PATH):\n",
    "    \"\"\"\n",
    "    Reads the config and schema YAML files and creates the necessary directories.\n",
    "\n",
    "    Args:\n",
    "        config_filepath (Path): The path to the configuration YAML file.\n",
    "        schema_filepath (Path): The path to the schema YAML file.\n",
    "\n",
    "    Returns:\n",
    "        config: The loaded configuration from YAML.\n",
    "        schema: The loaded schema from YAML.\n",
    "    \"\"\"\n",
    "    config = read_yaml(config_filepath)\n",
    "    schema = read_yaml(schema_filepath)\n",
    "\n",
    "    return config, schema\n",
    "\n",
    "\n",
    "# Function to get data ingestion configuration from the loaded config\n",
    "def get_data_ingestion_config(config) -> DataIngestionConfig:\n",
    "    \"\"\"\n",
    "    Retrieves data ingestion configuration from the config and creates necessary directories.\n",
    "\n",
    "    Args:\n",
    "        config: The loaded configuration from YAML.\n",
    "\n",
    "    Returns:\n",
    "        DataIngestionConfig: A dataclass containing the data ingestion configuration.\n",
    "    \"\"\"\n",
    "    # Extract data ingestion settings from the config\n",
    "    data_ingestion = config.data_ingestion\n",
    "\n",
    "    # Create and return a DataIngestionConfig instance\n",
    "    return DataIngestionConfig(\n",
    "        root_dir=data_ingestion.root_dir,\n",
    "        source_URL=data_ingestion.source_URL,\n",
    "        local_data_file=data_ingestion.local_data_file,\n",
    "        unzip_dir=data_ingestion.unzip_dir\n",
    "    )\n",
    "\n",
    "# load config and schema\n",
    "config, schema = initialize_configuration()\n",
    "# function to create directories\n",
    "create_directories([config.artifacts_root])\n",
    "# Step 4: Retrieve the data ingestion configuration from the loaded config\n",
    "data_ingestion_config = get_data_ingestion_config(config)\n",
    "# Step 5: Create the directories related to data ingestion (root directory)\n",
    "create_directories([data_ingestion_config.root_dir])"
   ]
  },
  {
   "cell_type": "markdown",
   "metadata": {},
   "source": [
    "## Data Ingestion Components"
   ]
  },
  {
   "cell_type": "code",
   "execution_count": 6,
   "metadata": {},
   "outputs": [
    {
     "name": "stdout",
     "output_type": "stream",
     "text": [
      "[2024-09-24 15:29:06,009: INFO: 1022477913: artifacts/data_ingestion/Lstm_Dates.xlsx downloaded! with the following info: \n",
      "Server: GitHub.com\n",
      "Date: Tue, 24 Sep 2024 09:59:03 GMT\n",
      "Content-Type: text/html; charset=utf-8\n",
      "Vary: X-PJAX, X-PJAX-Container, Turbo-Visit, Turbo-Frame, Accept-Encoding, Accept, X-Requested-With\n",
      "ETag: W/\"de174c521fef02f985587bb5608b2df5\"\n",
      "Cache-Control: max-age=0, private, must-revalidate\n",
      "Strict-Transport-Security: max-age=31536000; includeSubdomains; preload\n",
      "X-Frame-Options: deny\n",
      "X-Content-Type-Options: nosniff\n",
      "X-XSS-Protection: 0\n",
      "Referrer-Policy: no-referrer-when-downgrade\n",
      "Content-Security-Policy: default-src 'none'; base-uri 'self'; child-src github.com/assets-cdn/worker/ github.com/webpack/ github.com/assets/ gist.github.com/assets-cdn/worker/; connect-src 'self' uploads.github.com www.githubstatus.com collector.github.com raw.githubusercontent.com api.github.com github-cloud.s3.amazonaws.com github-production-repository-file-5c1aeb.s3.amazonaws.com github-production-upload-manifest-file-7fdce7.s3.amazonaws.com github-production-user-asset-6210df.s3.amazonaws.com *.rel.tunnels.api.visualstudio.com wss://*.rel.tunnels.api.visualstudio.com objects-origin.githubusercontent.com copilot-proxy.githubusercontent.com api.githubcopilot.com api.individual.githubcopilot.com api.business.githubcopilot.com api.enterprise.githubcopilot.com proxy.individual.githubcopilot.com proxy.business.githubcopilot.com proxy.enterprise.githubcopilot.com *.actions.githubusercontent.com wss://*.actions.githubusercontent.com productionresultssa0.blob.core.windows.net/ productionresultssa1.blob.core.windows.net/ productionresultssa2.blob.core.windows.net/ productionresultssa3.blob.core.windows.net/ productionresultssa4.blob.core.windows.net/ productionresultssa5.blob.core.windows.net/ productionresultssa6.blob.core.windows.net/ productionresultssa7.blob.core.windows.net/ productionresultssa8.blob.core.windows.net/ productionresultssa9.blob.core.windows.net/ productionresultssa10.blob.core.windows.net/ productionresultssa11.blob.core.windows.net/ productionresultssa12.blob.core.windows.net/ productionresultssa13.blob.core.windows.net/ productionresultssa14.blob.core.windows.net/ productionresultssa15.blob.core.windows.net/ productionresultssa16.blob.core.windows.net/ productionresultssa17.blob.core.windows.net/ productionresultssa18.blob.core.windows.net/ productionresultssa19.blob.core.windows.net/ github-production-repository-image-32fea6.s3.amazonaws.com github-production-release-asset-2e65be.s3.amazonaws.com insights.github.com wss://alive.github.com; font-src github.githubassets.com; form-action 'self' github.com gist.github.com copilot-workspace.githubnext.com objects-origin.githubusercontent.com; frame-ancestors 'none'; frame-src viewscreen.githubusercontent.com notebooks.githubusercontent.com; img-src 'self' data: blob: github.githubassets.com media.githubusercontent.com camo.githubusercontent.com identicons.github.com avatars.githubusercontent.com private-avatars.githubusercontent.com github-cloud.s3.amazonaws.com objects.githubusercontent.com secured-user-images.githubusercontent.com/ user-images.githubusercontent.com/ private-user-images.githubusercontent.com opengraph.githubassets.com github-production-user-asset-6210df.s3.amazonaws.com customer-stories-feed.github.com spotlights-feed.github.com objects-origin.githubusercontent.com *.githubusercontent.com; manifest-src 'self'; media-src github.com user-images.githubusercontent.com/ secured-user-images.githubusercontent.com/ private-user-images.githubusercontent.com github-production-user-asset-6210df.s3.amazonaws.com gist.github.com; script-src github.githubassets.com; style-src 'unsafe-inline' github.githubassets.com; upgrade-insecure-requests; worker-src github.com/assets-cdn/worker/ github.com/webpack/ github.com/assets/ gist.github.com/assets-cdn/worker/\n",
      "Set-Cookie: _gh_sess=IDJq%2BCEBcEeIRQFrveO332viHnH4ltP1pR0Vn%2F8GgjClU8qf%2Fu%2BqG5OaWLsj0myWI2Jamp4kiTsF%2F0e7FOmRXrFGMPb5dJbo5txADS2J%2FHUh6PXt3MXGGLLHNT5fS1HDQd8jmS%2BrK%2FE5ydf4o44QF8Ec%2F%2FMJswWudKRD%2BBFLQz8i2%2FOnAvmTWrQiFETy8%2FwTJYMXq%2FefmYalR1VsiUhCfxARUQGUxlZODybgYm0L1OGP5ryfeiHU673cYLb6n0QLncqcLvlLLzrzrjBB5hHp0A%3D%3D--FvYPOaI0dINYBO0L--QCUYzlcThvIp92K5eGcSQQ%3D%3D; Path=/; HttpOnly; Secure; SameSite=Lax\n",
      "Set-Cookie: _octo=GH1.1.478389517.1727171942; Path=/; Domain=github.com; Expires=Wed, 24 Sep 2025 09:59:02 GMT; Secure; SameSite=Lax\n",
      "Set-Cookie: logged_in=no; Path=/; Domain=github.com; Expires=Wed, 24 Sep 2025 09:59:02 GMT; HttpOnly; Secure; SameSite=Lax\n",
      "Accept-Ranges: bytes\n",
      "Transfer-Encoding: chunked\n",
      "X-GitHub-Request-Id: F076:EFAC3:969339:A3F341:66F28D66\n",
      "connection: close\n",
      "\n",
      "]\n"
     ]
    }
   ],
   "source": [
    "import os\n",
    "from pathlib import Path\n",
    "from urllib import request\n",
    "from box import ConfigBox\n",
    "from src import logger\n",
    "\n",
    "def download_file(config: ConfigBox):\n",
    "    \"\"\"Download a file from the source URL to the local data file path.\"\"\"\n",
    "    if not os.path.exists(config.local_data_file):\n",
    "        filename, headers = request.urlretrieve(\n",
    "            url=config.source_URL,\n",
    "            filename=config.local_data_file\n",
    "        )\n",
    "        logger.info(f\"{filename} downloaded! with the following info: \\n{headers}\")\n",
    "    else:\n",
    "        logger.info(f\"File already exists of size: {get_size(Path(config.local_data_file))}\")\n",
    "\n",
    "def get_size(path: Path) -> str:\n",
    "    \"\"\"Get size of the file in KB.\"\"\"\n",
    "    size_in_kb = round(os.path.getsize(path) / 1024)\n",
    "    return f\"~ {size_in_kb} KB\"\n",
    "\n",
    "# Step 5: Download the file using the data ingestion configuration\n",
    "lstm_data=download_file(data_ingestion_config)"
   ]
  },
  {
   "cell_type": "markdown",
   "metadata": {},
   "source": [
    "## Data Ingestion Pipeline"
   ]
  },
  {
   "cell_type": "code",
   "execution_count": 28,
   "metadata": {},
   "outputs": [
    {
     "name": "stdout",
     "output_type": "stream",
     "text": [
      "[2024-09-24 11:14:15,740: INFO: common: yaml file: config\\config.yaml loaded successfully]\n",
      "[2024-09-24 11:14:15,746: INFO: common: yaml file: schema.yaml loaded successfully]\n",
      "[2024-09-24 11:14:15,749: INFO: common: created directory at: artifacts]\n",
      "[2024-09-24 11:14:15,751: INFO: common: created directory at: artifacts/data_ingestion]\n",
      "[2024-09-24 11:14:16,769: INFO: 535566467: artifacts/data_ingestion/Lstm_Dates.xlsx downloaded! with the following info: \n",
      "Server: GitHub.com\n",
      "Date: Tue, 24 Sep 2024 05:44:13 GMT\n",
      "Content-Type: text/html; charset=utf-8\n",
      "Vary: X-PJAX, X-PJAX-Container, Turbo-Visit, Turbo-Frame, Accept-Encoding, Accept, X-Requested-With\n",
      "ETag: W/\"0ea54ab76c6f6a52b6ce4af0fd724268\"\n",
      "Cache-Control: max-age=0, private, must-revalidate\n",
      "Strict-Transport-Security: max-age=31536000; includeSubdomains; preload\n",
      "X-Frame-Options: deny\n",
      "X-Content-Type-Options: nosniff\n",
      "X-XSS-Protection: 0\n",
      "Referrer-Policy: no-referrer-when-downgrade\n",
      "Content-Security-Policy: default-src 'none'; base-uri 'self'; child-src github.com/assets-cdn/worker/ github.com/webpack/ github.com/assets/ gist.github.com/assets-cdn/worker/; connect-src 'self' uploads.github.com www.githubstatus.com collector.github.com raw.githubusercontent.com api.github.com github-cloud.s3.amazonaws.com github-production-repository-file-5c1aeb.s3.amazonaws.com github-production-upload-manifest-file-7fdce7.s3.amazonaws.com github-production-user-asset-6210df.s3.amazonaws.com *.rel.tunnels.api.visualstudio.com wss://*.rel.tunnels.api.visualstudio.com objects-origin.githubusercontent.com copilot-proxy.githubusercontent.com api.githubcopilot.com api.individual.githubcopilot.com api.business.githubcopilot.com api.enterprise.githubcopilot.com proxy.individual.githubcopilot.com proxy.business.githubcopilot.com proxy.enterprise.githubcopilot.com *.actions.githubusercontent.com wss://*.actions.githubusercontent.com productionresultssa0.blob.core.windows.net/ productionresultssa1.blob.core.windows.net/ productionresultssa2.blob.core.windows.net/ productionresultssa3.blob.core.windows.net/ productionresultssa4.blob.core.windows.net/ productionresultssa5.blob.core.windows.net/ productionresultssa6.blob.core.windows.net/ productionresultssa7.blob.core.windows.net/ productionresultssa8.blob.core.windows.net/ productionresultssa9.blob.core.windows.net/ productionresultssa10.blob.core.windows.net/ productionresultssa11.blob.core.windows.net/ productionresultssa12.blob.core.windows.net/ productionresultssa13.blob.core.windows.net/ productionresultssa14.blob.core.windows.net/ productionresultssa15.blob.core.windows.net/ productionresultssa16.blob.core.windows.net/ productionresultssa17.blob.core.windows.net/ productionresultssa18.blob.core.windows.net/ productionresultssa19.blob.core.windows.net/ github-production-repository-image-32fea6.s3.amazonaws.com github-production-release-asset-2e65be.s3.amazonaws.com insights.github.com wss://alive.github.com; font-src github.githubassets.com; form-action 'self' github.com gist.github.com copilot-workspace.githubnext.com objects-origin.githubusercontent.com; frame-ancestors 'none'; frame-src viewscreen.githubusercontent.com notebooks.githubusercontent.com; img-src 'self' data: blob: github.githubassets.com media.githubusercontent.com camo.githubusercontent.com identicons.github.com avatars.githubusercontent.com private-avatars.githubusercontent.com github-cloud.s3.amazonaws.com objects.githubusercontent.com secured-user-images.githubusercontent.com/ user-images.githubusercontent.com/ private-user-images.githubusercontent.com opengraph.githubassets.com github-production-user-asset-6210df.s3.amazonaws.com customer-stories-feed.github.com spotlights-feed.github.com objects-origin.githubusercontent.com *.githubusercontent.com; manifest-src 'self'; media-src github.com user-images.githubusercontent.com/ secured-user-images.githubusercontent.com/ private-user-images.githubusercontent.com github-production-user-asset-6210df.s3.amazonaws.com gist.github.com; script-src github.githubassets.com; style-src 'unsafe-inline' github.githubassets.com; upgrade-insecure-requests; worker-src github.com/assets-cdn/worker/ github.com/webpack/ github.com/assets/ gist.github.com/assets-cdn/worker/\n",
      "Set-Cookie: _gh_sess=sEsP1SVoiL%2Bl94ur%2B6U7JH2o9KtbFppy8ovjWrqybv7hjt8SUsiJVbMoubjdKpJYu0DuE00Uuh5Z0MFHojyazogiwVIG93FDyEEMNzVrqu9YWzYjxe4psYJHohzHp%2BKeaR0KYZlneavKxceN7mfLkZPB%2F%2BB9UTqmI6052uhmak5Y3RJv9luvDWCftjmWitEvl8cWBpcMwX7FjKt0chAY0K15iFbS680sB5q3EXimN9NcBcVg5mRVketSsVQ2cLjsYzSOrY6hFgt5idwdRByEKg%3D%3D--qVY2ymg1uEzXVI%2FS--%2BTNr%2BJWNgyDi6Z%2FMyAnrNQ%3D%3D; Path=/; HttpOnly; Secure; SameSite=Lax\n",
      "Set-Cookie: _octo=GH1.1.2130631356.1727156653; Path=/; Domain=github.com; Expires=Wed, 24 Sep 2025 05:44:13 GMT; Secure; SameSite=Lax\n",
      "Set-Cookie: logged_in=no; Path=/; Domain=github.com; Expires=Wed, 24 Sep 2025 05:44:13 GMT; HttpOnly; Secure; SameSite=Lax\n",
      "Accept-Ranges: bytes\n",
      "Transfer-Encoding: chunked\n",
      "X-GitHub-Request-Id: D51C:38051B:5EC9D1:68996A:66F251AD\n",
      "connection: close\n",
      "\n",
      "]\n"
     ]
    }
   ],
   "source": [
    "# src/pipeline.py\n",
    "def data_ingestion_training_pipeline():\n",
    "    \"\"\"Runs the data ingestion pipeline.\"\"\"\n",
    "    try:\n",
    "        # Load config and schema\n",
    "        config , _ = initialize_configuration()\n",
    "\n",
    "        # Create directories for artifacts root\n",
    "        create_directories([config.artifacts_root])\n",
    "\n",
    "        # Retrieve the data ingestion configuration from the loaded config\n",
    "        data_ingestion_config = get_data_ingestion_config(config)\n",
    "\n",
    "        # Create directories related to data ingestion (root directory)\n",
    "        create_directories([data_ingestion_config.root_dir])\n",
    "\n",
    "        # Download the data file as part of the data ingestion process\n",
    "        download_file(data_ingestion_config)\n",
    "\n",
    "    except Exception as e:\n",
    "        logger.error(f\"An error occurred during data ingestion: {e}\")\n",
    "\n",
    "data_ingestion_training_pipeline()"
   ]
  }
 ],
 "metadata": {
  "kernelspec": {
   "display_name": "hartipredict",
   "language": "python",
   "name": "python3"
  },
  "language_info": {
   "codemirror_mode": {
    "name": "ipython",
    "version": 3
   },
   "file_extension": ".py",
   "mimetype": "text/x-python",
   "name": "python",
   "nbconvert_exporter": "python",
   "pygments_lexer": "ipython3",
   "version": "3.9.19"
  }
 },
 "nbformat": 4,
 "nbformat_minor": 2
}
